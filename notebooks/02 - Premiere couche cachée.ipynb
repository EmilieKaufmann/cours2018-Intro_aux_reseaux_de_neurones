{
 "cells": [
  {
   "cell_type": "markdown",
   "metadata": {
    "slideshow": {
     "slide_type": "slide"
    }
   },
   "source": [
    "$\\newcommand{\\xbf}{{\\bf x}}\n",
    "\\newcommand{\\ybf}{{\\bf y}}\n",
    "\\newcommand{\\wbf}{{\\bf w}}\n",
    "\\newcommand{\\Ibf}{\\mathbf{I}}\n",
    "\\newcommand{\\Vbf}{\\mathbf{V}}\n",
    "\\newcommand{\\Xbf}{\\mathbf{X}}\n",
    "\\newcommand{\\Rbb}{\\mathbb{R}}\n",
    "\\newcommand{\\Phibf}{\\pmb{\\Phi}}\n",
    "\\newcommand{\\vec}[1]{\\left[\\begin{array}{c}#1\\end{array}\\right]}\n",
    "$\n",
    "\n",
    "# Introduction aux réseaux de neurones : Vers l'apprentissage de représentations\n",
    "Matériel de cours rédigé par Pascal Germain, 2018\n",
    "************"
   ]
  },
  {
   "cell_type": "code",
   "execution_count": 1,
   "metadata": {
    "slideshow": {
     "slide_type": "-"
    }
   },
   "outputs": [
    {
     "data": {
      "text/html": [
       "\n",
       "    <style>\n",
       "       .output_png {\n",
       "            display: table-cell;\n",
       "            text-align: center;\n",
       "            vertical-align: middle;\n",
       "        }\n",
       "    </style>\n",
       "    "
      ],
      "text/plain": [
       "<IPython.core.display.HTML object>"
      ]
     },
     "metadata": {},
     "output_type": "display_data"
    },
    {
     "data": {
      "text/html": [
       "<script>\n",
       "    code_show=false; \n",
       "    function code_toggle() {\n",
       "    if (code_show){\n",
       "         $('div.input').hide();\n",
       "    } else {\n",
       "         $('div.input').show();\n",
       "    }\n",
       "     code_show = !code_show\n",
       "    } \n",
       "    $( document ).ready(code_toggle);\n",
       "    </script>\n",
       "    <a href=\"javascript:code_toggle()\">voir/cacher le code</a>."
      ],
      "text/plain": [
       "<IPython.core.display.HTML object>"
      ]
     },
     "execution_count": 1,
     "metadata": {},
     "output_type": "execute_result"
    }
   ],
   "source": [
    "import numpy as np\n",
    "import aidecours\n",
    "from matplotlib import pyplot as plt\n",
    "from sklearn.datasets import make_circles\n",
    "\n",
    "from aidecours import code_button as CB\n",
    "aidecours.center_images(); CB()"
   ]
  },
  {
   "cell_type": "markdown",
   "metadata": {
    "slideshow": {
     "slide_type": "slide"
    }
   },
   "source": [
    "## Limitations des prédicteurs linéaires\n",
    "Le réseau simple étudié jusqu'à maintenant ne peut que générer des prédicteurs **linéaires**.\n",
    "\n",
    "(de la forme $\\wbf\\cdot\\xbf + b$)\n",
    "\n",
    "<p>\n",
    "<center><img src=\"images/reseau_simple_biais.png\"/></center>"
   ]
  },
  {
   "cell_type": "markdown",
   "metadata": {
    "slideshow": {
     "slide_type": "slide"
    }
   },
   "source": [
    "À titre d'exemple, considérons ce problème de classification en deux dimensions, généré à l'aide de la fonction\n",
    "`sklearn.datasets.make_circles` \n",
    "\n",
    "(voir: http://scikit-learn.org/stable/modules/generated/sklearn.datasets.make_circles.html)"
   ]
  },
  {
   "cell_type": "code",
   "execution_count": 2,
   "metadata": {
    "slideshow": {
     "slide_type": "-"
    }
   },
   "outputs": [
    {
     "data": {
      "text/html": [
       "<script>\n",
       "    code_show=false; \n",
       "    function code_toggle() {\n",
       "    if (code_show){\n",
       "         $('div.input').hide();\n",
       "    } else {\n",
       "         $('div.input').show();\n",
       "    }\n",
       "     code_show = !code_show\n",
       "    } \n",
       "    $( document ).ready(code_toggle);\n",
       "    </script>\n",
       "    <a href=\"javascript:code_toggle()\">voir/cacher le code</a>."
      ],
      "text/plain": [
       "<IPython.core.display.HTML object>"
      ]
     },
     "execution_count": 2,
     "metadata": {},
     "output_type": "execute_result"
    },
    {
     "data": {
      "image/png": "[encoded data removed]",
      "text/plain": [
       "<Figure size 432x288 with 1 Axes>"
      ]
     },
     "metadata": {},
     "output_type": "display_data"
    }
   ],
   "source": [
    "x, y = make_circles(n_samples=100, noise=.1, factor=0.2, random_state=10)\n",
    "aidecours.show_2d_dataset(x, y); CB()"
   ]
  },
  {
   "cell_type": "markdown",
   "metadata": {
    "slideshow": {
     "slide_type": "slide"
    }
   },
   "source": [
    "Voici le résultat de la régression logistique.\n",
    "\n",
    "$$\n",
    "\\min_{\\wbf,b} \\left[\\frac1n \\sum_{i=1}^n - y_i (\\wbf\\cdot\\xbf_i+b) + \\log(1+e^{\\wbf\\cdot\\xbf_i+b})+ \\frac\\lambda2\\|\\wbf\\|^2\\right].\n",
    "$$ "
   ]
  },
  {
   "cell_type": "code",
   "execution_count": 3,
   "metadata": {},
   "outputs": [
    {
     "data": {
      "text/html": [
       "<script>\n",
       "    code_show=false; \n",
       "    function code_toggle() {\n",
       "    if (code_show){\n",
       "         $('div.input').hide();\n",
       "    } else {\n",
       "         $('div.input').show();\n",
       "    }\n",
       "     code_show = !code_show\n",
       "    } \n",
       "    $( document ).ready(code_toggle);\n",
       "    </script>\n",
       "    <a href=\"javascript:code_toggle()\">voir/cacher le code</a>."
      ],
      "text/plain": [
       "<IPython.core.display.HTML object>"
      ]
     },
     "execution_count": 3,
     "metadata": {},
     "output_type": "execute_result"
    },
    {
     "data": {
      "image/png": "[encoded data removed]",
      "text/plain": [
       "<Figure size 432x288 with 1 Axes>"
      ]
     },
     "metadata": {},
     "output_type": "display_data"
    }
   ],
   "source": [
    "from sklearn.linear_model import LogisticRegression\n",
    "algo = LogisticRegression()\n",
    "algo.fit(x, y)\n",
    "coord = aidecours.show_2d_predictions(x, y, algo.predict) \n",
    "CB()"
   ]
  },
  {
   "cell_type": "markdown",
   "metadata": {
    "slideshow": {
     "slide_type": "slide"
    }
   },
   "source": [
    "Transformons les données en leur appliquant une fonction $\\Phibf:\\Rbb^2\\to\\Rbb^4$:\n",
    "\n",
    "$${\\Phibf} : \\vec{x_1 \\\\ x_2} \\, \\mapsto \\, \\vec{x_1 \\\\ x_2 \\\\ x_1^2\\\\ x_2^2}$$\n",
    "\n"
   ]
  },
  {
   "cell_type": "markdown",
   "metadata": {
    "slideshow": {
     "slide_type": "fragment"
    }
   },
   "source": [
    "<center><img src=\"images/reseau_simple_phi.png\"/></center>"
   ]
  },
  {
   "cell_type": "markdown",
   "metadata": {
    "slideshow": {
     "slide_type": "slide"
    }
   },
   "source": [
    "Appliquons maintennt la régression logistique sur l'ensemble transformé:\n",
    "\n",
    "$$\n",
    "\\min_{\\wbf,b} \\left[\\frac1n \\sum_{i=1}^n - y_i (\\wbf\\cdot\\Phibf(\\xbf_i)+b) + \\log(1+e^{\\wbf\\cdot\\Phibf(\\xbf_i)+b})+ \\frac\\lambda2\\|\\wbf\\|^2\\right].\n",
    "$$ "
   ]
  },
  {
   "cell_type": "code",
   "execution_count": 4,
   "metadata": {
    "slideshow": {
     "slide_type": "slide"
    }
   },
   "outputs": [
    {
     "data": {
      "text/html": [
       "<script>\n",
       "    code_show=false; \n",
       "    function code_toggle() {\n",
       "    if (code_show){\n",
       "         $('div.input').hide();\n",
       "    } else {\n",
       "         $('div.input').show();\n",
       "    }\n",
       "     code_show = !code_show\n",
       "    } \n",
       "    $( document ).ready(code_toggle);\n",
       "    </script>\n",
       "    <a href=\"javascript:code_toggle()\">voir/cacher le code</a>."
      ],
      "text/plain": [
       "<IPython.core.display.HTML object>"
      ]
     },
     "execution_count": 4,
     "metadata": {},
     "output_type": "execute_result"
    },
    {
     "data": {
      "image/png": "[encoded data removed]",
      "text/plain": [
       "<Figure size 432x288 with 1 Axes>"
      ]
     },
     "metadata": {},
     "output_type": "display_data"
    }
   ],
   "source": [
    "def phi(x):\n",
    "    return np.hstack((x, (x[:,0]**2).reshape(-1,1), (x[:,1]**2).reshape(-1,1)))\n",
    "\n",
    "algo = LogisticRegression()\n",
    "algo.fit(phi(x), y)\n",
    "aidecours.show_2d_predictions(x, y, lambda a: algo.predict(phi(a))) \n",
    "CB()"
   ]
  },
  {
   "cell_type": "markdown",
   "metadata": {
    "slideshow": {
     "slide_type": "slide"
    }
   },
   "source": [
    "## Réseau à une couche cachée\n",
    "\n",
    "En ajoutant une **couche cachée** au réseau de neurone, nous lui permettons *d'apprendre* la fonction de transformation appropriée.\n",
    "\n",
    "<p>\n",
    "<center><img src=\"images/reseau_simple_2couches.png\"/></center>"
   ]
  },
  {
   "cell_type": "markdown",
   "metadata": {
    "slideshow": {
     "slide_type": "fragment"
    }
   },
   "source": [
    "Le réseau $R_{\\Vbf,\\wbf}(\\xbf) = f\\Big(\\wbf\\, h\\big(\\Vbf \\xbf\\big)\\Big)$ ci-dessus est paramêtré par une matrice $\\Vbf$ et un vecteur $\\wbf$:\n",
    "\n",
    "$$\\xbf = \\vec{x_1\\\\x_2} ; \\quad\n",
    "\\Vbf=\\vec{v_{11} & v_{12} \\\\\n",
    "          v_{21} & v_{22} \\\\ \n",
    "          \\vdots & \\vdots \\\\\n",
    "          v_{D1} & v_{D2} }; \\quad\n",
    "\\wbf = \\vec{w_1 & w_2 & \\cdots& w_D}\n",
    "$$\n",
    "\n"
   ]
  },
  {
   "cell_type": "markdown",
   "metadata": {
    "slideshow": {
     "slide_type": "slide"
    }
   },
   "source": [
    "## Fonction d'activation\n",
    "Nous avons déjà vu deux choix pour la *fonction d'activation* de la sortie du réseau:\n",
    "* La fonction linéaire: $f(a) = a$\n",
    "* La fonction sigmoïdale $f(a) = \\sigma(a) = \\dfrac{1}{1+e^{-a}}\\,.$"
   ]
  },
  {
   "cell_type": "code",
   "execution_count": 5,
   "metadata": {
    "slideshow": {
     "slide_type": "fragment"
    }
   },
   "outputs": [
    {
     "data": {
      "text/html": [
       "<script>\n",
       "    code_show=false; \n",
       "    function code_toggle() {\n",
       "    if (code_show){\n",
       "         $('div.input').hide();\n",
       "    } else {\n",
       "         $('div.input').show();\n",
       "    }\n",
       "     code_show = !code_show\n",
       "    } \n",
       "    $( document ).ready(code_toggle);\n",
       "    </script>\n",
       "    <a href=\"javascript:code_toggle()\">voir/cacher le code</a>."
      ],
      "text/plain": [
       "<IPython.core.display.HTML object>"
      ]
     },
     "execution_count": 5,
     "metadata": {},
     "output_type": "execute_result"
    },
    {
     "data": {
      "image/png": "[encoded data removed]",
      "text/plain": [
       "<Figure size 432x288 with 1 Axes>"
      ]
     },
     "metadata": {},
     "output_type": "display_data"
    }
   ],
   "source": [
    "def sigmoid(x):\n",
    "    return 1 / (1+np.exp(-x))\n",
    "   \n",
    "aidecours.show_1d_function(sigmoid, -6, 6, constante_x=0, linewidth=5); \n",
    "plt.title('Fonction sigmoidale'); plt.xlabel('$a$'); plt.ylabel('$\\sigma(a)$'); CB()"
   ]
  },
  {
   "cell_type": "markdown",
   "metadata": {
    "slideshow": {
     "slide_type": "slide"
    }
   },
   "source": [
    "## Fonction d'activation\n",
    "\n",
    "<center><img src=\"images/reseau_simple_2couches.png\"/></center>\n",
    "\n",
    "Nous examinerons deux choix possible de fonction $h$ pour la couche cachée:\n",
    "* La tangente hyperbolique (tanh)\n",
    "* La *rectified linear unit* (ReLU)"
   ]
  },
  {
   "cell_type": "markdown",
   "metadata": {
    "slideshow": {
     "slide_type": "slide"
    }
   },
   "source": [
    "### Tangente hyperbolique\n",
    "\n",
    "$$h(x) = \\tanh(x) = 2\\sigma\\big(2x\\big) - 1$$"
   ]
  },
  {
   "cell_type": "code",
   "execution_count": 6,
   "metadata": {
    "slideshow": {
     "slide_type": "fragment"
    }
   },
   "outputs": [
    {
     "data": {
      "text/html": [
       "<script>\n",
       "    code_show=false; \n",
       "    function code_toggle() {\n",
       "    if (code_show){\n",
       "         $('div.input').hide();\n",
       "    } else {\n",
       "         $('div.input').show();\n",
       "    }\n",
       "     code_show = !code_show\n",
       "    } \n",
       "    $( document ).ready(code_toggle);\n",
       "    </script>\n",
       "    <a href=\"javascript:code_toggle()\">voir/cacher le code</a>."
      ],
      "text/plain": [
       "<IPython.core.display.HTML object>"
      ]
     },
     "execution_count": 6,
     "metadata": {},
     "output_type": "execute_result"
    },
    {
     "data": {
      "image/png": "[encoded data removed]",
      "text/plain": [
       "<Figure size 432x288 with 1 Axes>"
      ]
     },
     "metadata": {},
     "output_type": "display_data"
    }
   ],
   "source": [
    "aidecours.show_1d_function(np.tanh, -6, 6, constante_x=0, linewidth=5, label='$\\\\tanh(x)$'); \n",
    "aidecours.show_1d_function(lambda x: sigmoid(x), -6, 6, c='b', linestyle='-.', linewidth=2, label='$\\sigma(x)$'); \n",
    "plt.title('Fonction tangente hyperbolique'); plt.xlabel('$x$'); plt.ylabel('$\\mathrm{tanh}(x)$'); CB()"
   ]
  },
  {
   "cell_type": "markdown",
   "metadata": {
    "slideshow": {
     "slide_type": "slide"
    }
   },
   "source": [
    "### Rectified Linear Unit (ReLU)\n",
    "$$h(x) = \\mathrm{relu}(x) = \\max(0, x)$$"
   ]
  },
  {
   "cell_type": "code",
   "execution_count": 7,
   "metadata": {
    "slideshow": {
     "slide_type": "fragment"
    }
   },
   "outputs": [
    {
     "data": {
      "text/html": [
       "<script>\n",
       "    code_show=false; \n",
       "    function code_toggle() {\n",
       "    if (code_show){\n",
       "         $('div.input').hide();\n",
       "    } else {\n",
       "         $('div.input').show();\n",
       "    }\n",
       "     code_show = !code_show\n",
       "    } \n",
       "    $( document ).ready(code_toggle);\n",
       "    </script>\n",
       "    <a href=\"javascript:code_toggle()\">voir/cacher le code</a>."
      ],
      "text/plain": [
       "<IPython.core.display.HTML object>"
      ]
     },
     "execution_count": 7,
     "metadata": {},
     "output_type": "execute_result"
    },
    {
     "data": {
      "image/png": "[encoded data removed]",
      "text/plain": [
       "<Figure size 432x288 with 1 Axes>"
      ]
     },
     "metadata": {},
     "output_type": "display_data"
    }
   ],
   "source": [
    "def relu(x):\n",
    "    return np.maximum(0, x)\n",
    "aidecours.show_1d_function(relu, -6, 6, constante_x=0, linewidth=5); \n",
    "plt.title('Fonction «relu»'); plt.xlabel('$x$'); plt.ylabel('$\\mathrm{relu}(x)$'); CB()"
   ]
  },
  {
   "cell_type": "markdown",
   "metadata": {
    "slideshow": {
     "slide_type": "slide"
    }
   },
   "source": [
    "## Quelques exemples de prédictions de réseaux de neurones\n",
    "\n",
    "#### 4 neurones sur la couche cachée, fonction d'activation ReLU"
   ]
  },
  {
   "cell_type": "code",
   "execution_count": 8,
   "metadata": {
    "slideshow": {
     "slide_type": "-"
    }
   },
   "outputs": [
    {
     "data": {
      "text/html": [
       "<script>\n",
       "    code_show=false; \n",
       "    function code_toggle() {\n",
       "    if (code_show){\n",
       "         $('div.input').hide();\n",
       "    } else {\n",
       "         $('div.input').show();\n",
       "    }\n",
       "     code_show = !code_show\n",
       "    } \n",
       "    $( document ).ready(code_toggle);\n",
       "    </script>\n",
       "    <a href=\"javascript:code_toggle()\">voir/cacher le code</a>."
      ],
      "text/plain": [
       "<IPython.core.display.HTML object>"
      ]
     },
     "execution_count": 8,
     "metadata": {},
     "output_type": "execute_result"
    },
    {
     "data": {
      "image/png": "[encoded data removed]",
      "text/plain": [
       "<Figure size 432x288 with 1 Axes>"
      ]
     },
     "metadata": {},
     "output_type": "display_data"
    }
   ],
   "source": [
    "from sklearn.neural_network import MLPClassifier\n",
    "algo = MLPClassifier(activation='relu', solver='lbfgs', alpha=0.01, hidden_layer_sizes=(4,), random_state=1)\n",
    "algo.fit(x, y)\n",
    "aidecours.show_2d_predictions(x, y, algo.predict); CB()"
   ]
  },
  {
   "cell_type": "markdown",
   "metadata": {
    "slideshow": {
     "slide_type": "slide"
    }
   },
   "source": [
    "#### 10 neurones sur la couche cachée, fonction d'activation ReLU"
   ]
  },
  {
   "cell_type": "code",
   "execution_count": 9,
   "metadata": {
    "slideshow": {
     "slide_type": "-"
    }
   },
   "outputs": [
    {
     "data": {
      "text/html": [
       "<script>\n",
       "    code_show=false; \n",
       "    function code_toggle() {\n",
       "    if (code_show){\n",
       "         $('div.input').hide();\n",
       "    } else {\n",
       "         $('div.input').show();\n",
       "    }\n",
       "     code_show = !code_show\n",
       "    } \n",
       "    $( document ).ready(code_toggle);\n",
       "    </script>\n",
       "    <a href=\"javascript:code_toggle()\">voir/cacher le code</a>."
      ],
      "text/plain": [
       "<IPython.core.display.HTML object>"
      ]
     },
     "execution_count": 9,
     "metadata": {},
     "output_type": "execute_result"
    },
    {
     "data": {
      "image/png": "[encoded data removed]",
      "text/plain": [
       "<Figure size 432x288 with 1 Axes>"
      ]
     },
     "metadata": {},
     "output_type": "display_data"
    }
   ],
   "source": [
    "algo = MLPClassifier(activation='relu', solver='lbfgs', alpha=0.01, hidden_layer_sizes=(10,), random_state=1)\n",
    "algo.fit(x, y)\n",
    "aidecours.show_2d_predictions(x, y, algo.predict); CB()"
   ]
  },
  {
   "cell_type": "markdown",
   "metadata": {
    "slideshow": {
     "slide_type": "slide"
    }
   },
   "source": [
    "#### 10 neurones sur la couche cachée, fonction d'activation tanh"
   ]
  },
  {
   "cell_type": "code",
   "execution_count": 10,
   "metadata": {
    "slideshow": {
     "slide_type": "-"
    }
   },
   "outputs": [
    {
     "data": {
      "text/html": [
       "<script>\n",
       "    code_show=false; \n",
       "    function code_toggle() {\n",
       "    if (code_show){\n",
       "         $('div.input').hide();\n",
       "    } else {\n",
       "         $('div.input').show();\n",
       "    }\n",
       "     code_show = !code_show\n",
       "    } \n",
       "    $( document ).ready(code_toggle);\n",
       "    </script>\n",
       "    <a href=\"javascript:code_toggle()\">voir/cacher le code</a>."
      ],
      "text/plain": [
       "<IPython.core.display.HTML object>"
      ]
     },
     "execution_count": 10,
     "metadata": {},
     "output_type": "execute_result"
    },
    {
     "data": {
      "image/png": "[encoded data removed]",
      "text/plain": [
       "<Figure size 432x288 with 1 Axes>"
      ]
     },
     "metadata": {},
     "output_type": "display_data"
    }
   ],
   "source": [
    "algo = MLPClassifier(activation='tanh', solver='lbfgs', alpha=0.01, hidden_layer_sizes=(10,), random_state=1)\n",
    "algo.fit(x, y)\n",
    "aidecours.show_2d_predictions(x, y, algo.predict); CB()"
   ]
  },
  {
   "cell_type": "code",
   "execution_count": null,
   "metadata": {},
   "outputs": [],
   "source": []
  }
 ],
 "metadata": {
  "kernelspec": {
   "display_name": "Python 3",
   "language": "python",
   "name": "python3"
  },
  "language_info": {
   "codemirror_mode": {
    "name": "ipython",
    "version": 3
   },
   "file_extension": ".py",
   "mimetype": "text/x-python",
   "name": "python",
   "nbconvert_exporter": "python",
   "pygments_lexer": "ipython3",
   "version": "3.6.6"
  }
 },
 "nbformat": 4,
 "nbformat_minor": 2
}
