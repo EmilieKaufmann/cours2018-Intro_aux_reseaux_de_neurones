{
 "cells": [
  {
   "cell_type": "markdown",
   "metadata": {},
   "source": [
    "$\\newcommand{\\xbf}{{\\bf x}}\n",
    "\\newcommand{\\ybf}{{\\bf y}}\n",
    "\\newcommand{\\wbf}{{\\bf w}}\n",
    "\\newcommand{\\Ibf}{\\mathbf{I}}\n",
    "\\newcommand{\\Xbf}{\\mathbf{X}}\n",
    "\\newcommand{\\Rbb}{\\mathbb{R}}\n",
    "\\newcommand{\\vec}[1]{\\left[\\begin{array}{c}#1\\end{array}\\right]}\n",
    "$\n",
    "\n",
    "# Introduction aux réseaux de neurones : TD #2  (partie 3)\n",
    "Matériel de cours rédigé par Pascal Germain, 2018\n",
    "************"
   ]
  },
  {
   "cell_type": "code",
   "execution_count": null,
   "metadata": {},
   "outputs": [],
   "source": [
    "%matplotlib inline\n",
    "from matplotlib import pyplot as plt\n",
    "import numpy as np\n",
    "import torch\n",
    "from torch import nn"
   ]
  },
  {
   "cell_type": "markdown",
   "metadata": {},
   "source": [
    "### Chargement des données «MNIST» et pré-traitements"
   ]
  },
  {
   "cell_type": "code",
   "execution_count": null,
   "metadata": {},
   "outputs": [],
   "source": [
    "def charger_mnist(repertoire, etiquettes=None, max_par_etiquettes=None):\n",
    "    if etiquettes is None:\n",
    "         etiquettes = np.arange(10)\n",
    "    images_list = [None] * len(etiquettes)\n",
    "    labels_list = [None] * len(etiquettes)\n",
    "    for i, val in enumerate(etiquettes):\n",
    "        nom_fichier = repertoire_mnist + f'mnist_{val}.gz'\n",
    "        images_list[i] = np.genfromtxt(nom_fichier, max_rows=max_par_etiquettes, dtype=np.float32)\n",
    "        nb = images_list[i].shape[0]\n",
    "\n",
    "        labels_list[i] = i*np.ones(nb, dtype=np.int64)\n",
    "        print(val, ':', nb, 'images')\n",
    "        \n",
    "    x = np.vstack(images_list)\n",
    "    y = np.concatenate(labels_list)\n",
    "    print('Total :', len(y), 'images')\n",
    "    return x, y"
   ]
  },
  {
   "cell_type": "code",
   "execution_count": null,
   "metadata": {},
   "outputs": [],
   "source": [
    "repertoire_mnist = 'mnist/' # Modifier le répertoire au besoin\n",
    "data_x, data_y = charger_mnist(repertoire_mnist, etiquettes=None, max_par_etiquettes=1000)\n",
    "data_x = data_x / 255"
   ]
  },
  {
   "cell_type": "code",
   "execution_count": null,
   "metadata": {},
   "outputs": [],
   "source": [
    "from sklearn.model_selection import train_test_split\n",
    "train_x, test_x, train_y, test_y = train_test_split(data_x, data_y, test_size=0.5, random_state=42)\n",
    "print('train_x:', train_x.shape)\n",
    "print('test_x:', test_x.shape)\n",
    "print('train_y:', train_y.shape)\n",
    "print('test_y:', test_y.shape)"
   ]
  },
  {
   "cell_type": "code",
   "execution_count": null,
   "metadata": {},
   "outputs": [],
   "source": [
    "from sklearn.preprocessing import StandardScaler\n",
    "scaler = StandardScaler()\n",
    "scaler.fit(train_x)\n",
    "train_x_prime = scaler.transform(train_x)\n",
    "test_x_prime = scaler.transform(test_x)"
   ]
  },
  {
   "cell_type": "markdown",
   "metadata": {},
   "source": [
    "### Créons un réseau de neurones"
   ]
  },
  {
   "cell_type": "markdown",
   "metadata": {},
   "source": [
    "La classe suivante a pour but d'éviter de recopier le même code pour lors de nos différents essai. Ce réseau doit être initialisé avec un object `architecture`, possédant minimalement une méthode `propagation` et une méthode `parametres`."
   ]
  },
  {
   "cell_type": "code",
   "execution_count": null,
   "metadata": {},
   "outputs": [],
   "source": [
    "from itertools import chain\n",
    "from torch.utils.data import TensorDataset, DataLoader\n",
    "\n",
    "class ReseauClassifGenerique:\n",
    "    def __init__(self, architecture, eta=0.4, alpha=0.1, nb_epoques=10, taille_batch=32, seed=None):\n",
    "        self.architecture = architecture\n",
    "        self.eta = eta\n",
    "        self.alpha = alpha\n",
    "        self.nb_epoques = nb_epoques\n",
    "        self.taille_batch = taille_batch\n",
    "        self.seed = seed\n",
    "        \n",
    "    def fit(self, x, y):\n",
    "        if self.seed is not None:\n",
    "            torch.manual_seed(self.seed)\n",
    "        \n",
    "        x = torch.tensor(x, dtype=torch.float32)\n",
    "        y = torch.tensor(y, dtype=torch.int64)\n",
    "               \n",
    "        nb_sorties = len(torch.unique(y))\n",
    "        sampler = DataLoader(TensorDataset(x, y), batch_size=self.taille_batch, shuffle=True) \n",
    "\n",
    "        perte_logistique = nn.NLLLoss()\n",
    "        \n",
    "        optimizer = torch.optim.SGD(chain(*self.architecture.parametres()), \n",
    "                                    lr=self.eta, momentum=self.alpha)\n",
    "        \n",
    "        self.liste_objectif = list()\n",
    "    \n",
    "        for t in range(self.nb_epoques):\n",
    "            liste_pertes = list()\n",
    "            for batch_x, batch_y in sampler:\n",
    "                 \n",
    "                y_pred = self.architecture.propagation(batch_x, apprentissage=True)\n",
    "                perte = perte_logistique(y_pred, batch_y)\n",
    "\n",
    "                optimizer.zero_grad()\n",
    "                perte.backward()\n",
    "                optimizer.step()\n",
    "                \n",
    "                liste_pertes.append(perte.item())\n",
    "                \n",
    "            perte_moyenne = np.mean(liste_pertes)\n",
    "            print(t, ':', perte_moyenne)\n",
    "            self.liste_objectif.append(perte_moyenne)\n",
    "                \n",
    "                \n",
    "    def predict(self, x):\n",
    "        x = torch.tensor(x, dtype=torch.float32)\n",
    "        pred = self.architecture.propagation(x, apprentissage=False)\n",
    "        pred = torch.argmax(pred, dim=1)\n",
    "        return np.array(pred.detach())\n",
    "\n"
   ]
  },
  {
   "cell_type": "markdown",
   "metadata": {},
   "source": [
    "Voici un exemple de classe à partir de laquelle nous créerons des objets `architecture`."
   ]
  },
  {
   "cell_type": "code",
   "execution_count": null,
   "metadata": {},
   "outputs": [],
   "source": [
    "class UneArchiPourMNIST:\n",
    "    def __init__(self, nb_filtres=32, taille_noyau=3):\n",
    "        # Créons une couche de convolution \n",
    "        self.modele_conv = nn.Sequential(\n",
    "            nn.Conv2d(1, nb_filtres, kernel_size=taille_noyau),\n",
    "            nn.ReLU(),\n",
    "            nn.MaxPool2d(2),\n",
    "        )\n",
    "        \n",
    "        # La convolution est suivie d'une couche de sortie \n",
    "        self.nb_neurones_du_milieu = nb_filtres * ((28-taille_noyau+1)//2)**2\n",
    "        self.modele_plein = nn.Sequential(\n",
    "            nn.Linear(self.nb_neurones_du_milieu, 10),\n",
    "            nn.LogSoftmax(dim=1)\n",
    "        )\n",
    "        \n",
    "    def propagation(self, x, apprentissage=False):\n",
    "        # Ce code if/else est superflu pour cet exemple, mais sera essentiel \n",
    "        # pour un réseau avec «dropout» ou «batchnorm»\n",
    "        if apprentissage: #  \n",
    "            self.modele_conv.train()\n",
    "            self.modele_plein.train()\n",
    "        else:\n",
    "            self.modele_conv.eval()\n",
    "            self.modele_plein.eval()\n",
    "          \n",
    "        # Propageons la «batch». Notez que nous devons redimensionner nos données consciencieusement\n",
    "        x0 = x.view(-1, 1, 28, 28)\n",
    "        x1 = self.modele_conv(x0)\n",
    "        x2 = x1.view(-1, self.nb_neurones_du_milieu)\n",
    "        x3 = self.modele_plein(x2)\n",
    "        return x3\n",
    "    \n",
    "    def parametres(self):\n",
    "        # Cette fonction doit retourner un tuple contenant toutes les variables à optimiser\n",
    "        return self.modele_conv.parameters(), self.modele_plein.parameters()"
   ]
  },
  {
   "cell_type": "markdown",
   "metadata": {},
   "source": [
    "Nous pouvons maintenant faire apprendre notre réseau convolutif"
   ]
  },
  {
   "cell_type": "code",
   "execution_count": null,
   "metadata": {},
   "outputs": [],
   "source": [
    "mon_archi = UneArchiPourMNIST(nb_filtres=32, taille_noyau=3)\n",
    "R = ReseauClassifGenerique(mon_archi, eta=0.1, alpha=0.1, nb_epoques=20, taille_batch=32)"
   ]
  },
  {
   "cell_type": "code",
   "execution_count": null,
   "metadata": {},
   "outputs": [],
   "source": [
    "R.fit(train_x_prime, train_y)"
   ]
  },
  {
   "cell_type": "code",
   "execution_count": null,
   "metadata": {},
   "outputs": [],
   "source": [
    "from sklearn.metrics import accuracy_score\n",
    "train_pred = R.predict(train_x_prime)\n",
    "test_pred = R.predict(test_x_prime)\n",
    "print('Précision train:', accuracy_score(train_y, train_pred) )\n",
    "print('Précision test :', accuracy_score(test_y, test_pred))"
   ]
  },
  {
   "cell_type": "markdown",
   "metadata": {},
   "source": [
    "### Visualisation des filtres appris"
   ]
  },
  {
   "cell_type": "code",
   "execution_count": null,
   "metadata": {},
   "outputs": [],
   "source": [
    "from torchvision.utils import make_grid\n",
    "def afficher_grille(images):\n",
    "    plt.figure(figsize=(15,4))\n",
    "    grid = make_grid(images, pad_value=torch.max(images))\n",
    "    plt.imshow(grid[0].detach(), cmap=plt.cm.gray)\n",
    "    plt.colorbar()"
   ]
  },
  {
   "cell_type": "code",
   "execution_count": null,
   "metadata": {},
   "outputs": [],
   "source": [
    "afficher_grille(mon_archi.modele_conv[0].weight)"
   ]
  },
  {
   "cell_type": "markdown",
   "metadata": {},
   "source": [
    "### Visualisation de la représentation interne du réseau"
   ]
  },
  {
   "cell_type": "code",
   "execution_count": null,
   "metadata": {},
   "outputs": [],
   "source": [
    "def afficher_activations(x, modele, etape):\n",
    "    image = torch.tensor(x).view(1,1,28,28)\n",
    "    sous_modele = modele[0:etape]\n",
    "    print(sous_modele)\n",
    "    couche = sous_modele(image)\n",
    "    afficher_grille(couche.transpose(0,1))"
   ]
  },
  {
   "cell_type": "code",
   "execution_count": null,
   "metadata": {},
   "outputs": [],
   "source": [
    "afficher_activations(train_x_prime[0], mon_archi.modele_conv, 1)"
   ]
  },
  {
   "cell_type": "code",
   "execution_count": null,
   "metadata": {},
   "outputs": [],
   "source": [
    "afficher_activations(train_x_prime[0], mon_archi.modele_conv, 2)"
   ]
  },
  {
   "cell_type": "code",
   "execution_count": null,
   "metadata": {},
   "outputs": [],
   "source": [
    "afficher_activations(train_x_prime[0], mon_archi.modele_conv, 3)"
   ]
  },
  {
   "cell_type": "markdown",
   "metadata": {},
   "source": [
    "************\n",
    "\n",
    "# À vous de jouer.\n",
    "\n",
    "Essayez d'autres architectures de réseau de neurones convolutif, et tentez d'interpréter les résultats obtenus. Parmi les différentes possibilités, vous pouvez:\n",
    "* Changer la taille et le nombre de filtres convolutifs\n",
    "* Ajouter une ou plusieurs couches de filtres convolutifs dans la première partie du réseau\n",
    "* Ajouter davantage de couches pleinement connectées dans la seconde partie du réseau\n",
    "* Ajouter du «Dropout»\n",
    "* Faire de la «Batchnorm»"
   ]
  },
  {
   "cell_type": "code",
   "execution_count": null,
   "metadata": {},
   "outputs": [],
   "source": []
  }
 ],
 "metadata": {
  "kernelspec": {
   "display_name": "Python 3",
   "language": "python",
   "name": "python3"
  },
  "language_info": {
   "codemirror_mode": {
    "name": "ipython",
    "version": 3
   },
   "file_extension": ".py",
   "mimetype": "text/x-python",
   "name": "python",
   "nbconvert_exporter": "python",
   "pygments_lexer": "ipython3",
   "version": "3.6.6"
  }
 },
 "nbformat": 4,
 "nbformat_minor": 2
}
